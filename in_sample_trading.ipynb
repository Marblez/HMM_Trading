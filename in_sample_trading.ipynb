{
 "cells": [
  {
   "cell_type": "code",
   "execution_count": 44,
   "metadata": {},
   "outputs": [],
   "source": [
    "import pandas as pd\n",
    "import numpy as np\n",
    "import matplotlib.pyplot as plt\n",
    "from matplotlib import cm\n",
    "import seaborn as sns\n",
    "from hmmlearn import hmm"
   ]
  },
  {
   "cell_type": "code",
   "execution_count": 45,
   "metadata": {},
   "outputs": [],
   "source": [
    "model_returns = pd.read_csv('data/regime_models.csv').drop(\"Unnamed: 0\", axis=1)\n",
    "regimes = pd.read_csv('data/regime_predictions.csv').drop(\"Unnamed: 0\", axis=1)\n",
    "transition = pd.read_csv('data/transition.csv').drop(\"Unnamed: 0\", axis = 1)"
   ]
  },
  {
   "cell_type": "code",
   "execution_count": 49,
   "metadata": {},
   "outputs": [
    {
     "data": {
      "text/html": [
       "<div>\n",
       "<style scoped>\n",
       "    .dataframe tbody tr th:only-of-type {\n",
       "        vertical-align: middle;\n",
       "    }\n",
       "\n",
       "    .dataframe tbody tr th {\n",
       "        vertical-align: top;\n",
       "    }\n",
       "\n",
       "    .dataframe thead th {\n",
       "        text-align: right;\n",
       "    }\n",
       "</style>\n",
       "<table border=\"1\" class=\"dataframe\">\n",
       "  <thead>\n",
       "    <tr style=\"text-align: right;\">\n",
       "      <th></th>\n",
       "      <th>Momentum</th>\n",
       "      <th>BookValue</th>\n",
       "      <th>InverseBook</th>\n",
       "      <th>AQR</th>\n",
       "      <th>SPY</th>\n",
       "    </tr>\n",
       "  </thead>\n",
       "  <tbody>\n",
       "    <tr>\n",
       "      <th>0</th>\n",
       "      <td>-0.006316</td>\n",
       "      <td>-0.050780</td>\n",
       "      <td>0.024355</td>\n",
       "      <td>-0.034215</td>\n",
       "      <td>0.046351</td>\n",
       "    </tr>\n",
       "    <tr>\n",
       "      <th>1</th>\n",
       "      <td>-0.072686</td>\n",
       "      <td>-0.038280</td>\n",
       "      <td>0.007779</td>\n",
       "      <td>-0.011288</td>\n",
       "      <td>-0.066000</td>\n",
       "    </tr>\n",
       "    <tr>\n",
       "      <th>2</th>\n",
       "      <td>-0.000356</td>\n",
       "      <td>-0.035355</td>\n",
       "      <td>0.002751</td>\n",
       "      <td>-0.013909</td>\n",
       "      <td>0.039845</td>\n",
       "    </tr>\n",
       "  </tbody>\n",
       "</table>\n",
       "</div>"
      ],
      "text/plain": [
       "   Momentum  BookValue  InverseBook       AQR       SPY\n",
       "0 -0.006316  -0.050780     0.024355 -0.034215  0.046351\n",
       "1 -0.072686  -0.038280     0.007779 -0.011288 -0.066000\n",
       "2 -0.000356  -0.035355     0.002751 -0.013909  0.039845"
      ]
     },
     "execution_count": 49,
     "metadata": {},
     "output_type": "execute_result"
    }
   ],
   "source": [
    "num_models = 5\n",
    "hidden_states = 3\n",
    "model_returns"
   ]
  },
  {
   "cell_type": "code",
   "execution_count": 50,
   "metadata": {},
   "outputs": [],
   "source": [
    "optimal_model = []\n",
    "max_return = []\n",
    "for i in range(0, hidden_states):\n",
    "    max_return.append(-1)\n",
    "    optimal_model.append(\" \")\n",
    "    \n",
    "for i in range(0, hidden_states):\n",
    "    for j in range(0, num_models):\n",
    "        if model_returns.iloc[i, j] > max_return[i]:\n",
    "            max_return[i] = model_returns.iloc[i, j]\n",
    "            optimal_model[i] = model_returns.columns[j]"
   ]
  },
  {
   "cell_type": "code",
   "execution_count": 51,
   "metadata": {},
   "outputs": [
    {
     "data": {
      "text/plain": [
       "['SPY', 'InverseBook', 'SPY']"
      ]
     },
     "execution_count": 51,
     "metadata": {},
     "output_type": "execute_result"
    }
   ],
   "source": []
  },
  {
   "cell_type": "code",
   "execution_count": null,
   "metadata": {},
   "outputs": [],
   "source": []
  }
 ],
 "metadata": {
  "kernelspec": {
   "display_name": "Python 3",
   "language": "python",
   "name": "python3"
  },
  "language_info": {
   "codemirror_mode": {
    "name": "ipython",
    "version": 3
   },
   "file_extension": ".py",
   "mimetype": "text/x-python",
   "name": "python",
   "nbconvert_exporter": "python",
   "pygments_lexer": "ipython3",
   "version": "3.8.2"
  }
 },
 "nbformat": 4,
 "nbformat_minor": 4
}
